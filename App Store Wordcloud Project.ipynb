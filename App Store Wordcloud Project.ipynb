{
 "cells": [
  {
   "cell_type": "code",
   "execution_count": 73,
   "id": "b3235db8",
   "metadata": {},
   "outputs": [],
   "source": [
    "import requests\n",
    "import pandas as pd\n",
    "flag = [1,2,3,4,5,6,7,8,9,10]\n",
    "urllist = []\n",
    "for i in flag:\n",
    "    url = f\"https://itunes.apple.com/tw/rss/customerreviews/page={i}/id=758103884/sortby=mostrecent/json\"\n",
    "    urllist.append(url)   # Uber 1058959277  # Foodpanda 758103884\n",
    "rating = [] \n",
    "title = [] \n",
    "content = [] \n",
    "time = []\n",
    "\n",
    "for url in urllist:\n",
    "    res = requests.get(url)\n",
    "    data = res.json()['feed']['entry']\n",
    "    for i in range(len(data)):\n",
    "        rating.append(data[i]['im:rating']['label'])\n",
    "        title.append(data[i]['title']['label'])\n",
    "        content.append(data[i]['content']['label'])\n",
    "        time.append(data[i]['updated']['label'])\n",
    "\n",
    "data = {\n",
    "        '時間':time,\n",
    "       '標題':title,\n",
    "       '內容':content,\n",
    "        '評分':rating,\n",
    "        }\n",
    "df = pd.DataFrame(data)\n",
    "df['內容'] = df['內容'].replace(r\"\\n\",' ',regex=True)\n",
    "df['內容'] = df['內容'].replace(r\"\\n\",' ',regex=True)"
   ]
  },
  {
   "cell_type": "code",
   "execution_count": 74,
   "id": "77feafaa",
   "metadata": {},
   "outputs": [],
   "source": [
    "#賦予每則留言編號\n",
    "ID = []\n",
    "for index,row in df.iterrows():\n",
    "    id = index+1 \n",
    "    ID.append(id)\n",
    "df['ID'] = ID"
   ]
  },
  {
   "cell_type": "code",
   "execution_count": 75,
   "id": "e5d34a3e",
   "metadata": {},
   "outputs": [],
   "source": [
    "#時間調整\n",
    "from datetime import datetime, timedelta, timezone\n",
    "df['Datetime'] = pd.to_datetime(df['時間'], utc=False)\n",
    "df['Date'] = df['Datetime'].dt.tz_convert('Asia/Shanghai')\n",
    "df.drop(columns=['Datetime'],inplace=True)\n",
    "df.drop(columns=['時間'],inplace=True)\n",
    "df['時間'] = df['Date'].apply(lambda x: x.strftime('%Y-%m-%d'))\n",
    "df.drop(columns=['Date'],inplace=True)"
   ]
  },
  {
   "cell_type": "code",
   "execution_count": 76,
   "id": "f47da68e",
   "metadata": {},
   "outputs": [],
   "source": [
    "#輸出 comments\n",
    "df.to_csv(r'comments.csv',encoding='utf_8_sig')"
   ]
  },
  {
   "cell_type": "code",
   "execution_count": 77,
   "id": "61b115a6",
   "metadata": {},
   "outputs": [
    {
     "name": "stderr",
     "output_type": "stream",
     "text": [
      "Building prefix dict from C:\\Users\\19749\\Desktop\\Python\\Text Mining\\Tools\\dict.txt ...\n",
      "Loading model from cache C:\\Users\\19749\\AppData\\Local\\Temp\\jieba.u55e26c21e268e022ceb9200c7c630427.cache\n",
      "Loading model cost 1.208 seconds.\n",
      "Prefix dict has been built successfully.\n"
     ]
    }
   ],
   "source": [
    "import jieba \n",
    "import jieba.analyse\n",
    "jieba.set_dictionary('Tools\\dict.txt')  # 繁體字典\n",
    "with open('Tools\\stops.txt', 'r', encoding='utf8') as f:  # 中文的停用字\n",
    "    stops = f.read().split('\\n') \n",
    "\n",
    "#新增停用詞\n",
    "s = ['沒','都','沒有','很','不','不要','請','好','嗎','因為','更','後','月','表示','年','以來']\n",
    "\n",
    "for w in s:\n",
    "    stops.append(w)\n",
    "    \n",
    "#自訂義辭典\n",
    "jieba.load_userdict(r'Tools\\userDict.txt')    \n",
    "    \n",
    "#斷詞並刪除停用詞\n",
    "def cut(mytext):\n",
    "    terms = [t for t in jieba.cut(mytext) if t not in stops]\n",
    "    return \" \".join(terms)"
   ]
  },
  {
   "cell_type": "code",
   "execution_count": 78,
   "id": "c2769f4f",
   "metadata": {},
   "outputs": [],
   "source": [
    "#針對每則留言做關鍵字\n",
    "df_tag = pd.DataFrame(columns=['ID','keyword','weight'])\n",
    "for index, row in df.iterrows():\n",
    "    id, context = row['ID'], row['內容']\n",
    "    tags = jieba.analyse.extract_tags(context, topK=5, withWeight=True, allowPOS=())\n",
    "    df_ = pd.DataFrame(tags, columns=['keyword','weight'])\n",
    "    df_['ID'] = id\n",
    "    df_tag = pd.concat([df_tag, df_])"
   ]
  },
  {
   "cell_type": "code",
   "execution_count": 79,
   "id": "fe4b9c3a",
   "metadata": {},
   "outputs": [],
   "source": [
    "#輸出keyword\n",
    "df_tag.to_csv(r'df_tag.csv',encoding='utf_8_sig')"
   ]
  },
  {
   "cell_type": "code",
   "execution_count": null,
   "id": "9d1c5f4d",
   "metadata": {},
   "outputs": [],
   "source": []
  }
 ],
 "metadata": {
  "kernelspec": {
   "display_name": "Python 3 (ipykernel)",
   "language": "python",
   "name": "python3"
  },
  "language_info": {
   "codemirror_mode": {
    "name": "ipython",
    "version": 3
   },
   "file_extension": ".py",
   "mimetype": "text/x-python",
   "name": "python",
   "nbconvert_exporter": "python",
   "pygments_lexer": "ipython3",
   "version": "3.9.7"
  }
 },
 "nbformat": 4,
 "nbformat_minor": 5
}
